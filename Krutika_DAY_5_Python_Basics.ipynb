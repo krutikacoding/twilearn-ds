{
  "cells": [
    {
      "cell_type": "markdown",
      "metadata": {
        "id": "view-in-github",
        "colab_type": "text"
      },
      "source": [
        "<a href=\"https://colab.research.google.com/github/krutikacoding/curly-robot/blob/main/Krutika_DAY_5_Python_Basics.ipynb\" target=\"_parent\"><img src=\"https://colab.research.google.com/assets/colab-badge.svg\" alt=\"Open In Colab\"/></a>"
      ]
    },
    {
      "cell_type": "markdown",
      "metadata": {
        "id": "yVE7L7dorP4H"
      },
      "source": [
        "<a id='1'></a><center> <h3 style=\"background-color:orange; color:white\" ><br>Python Basics<br></h3>"
      ]
    },
    {
      "cell_type": "code",
      "execution_count": null,
      "metadata": {
        "colab": {
          "base_uri": "https://localhost:8080/"
        },
        "execution": {
          "iopub.execute_input": "2021-12-13T05:20:57.005459Z",
          "iopub.status.busy": "2021-12-13T05:20:57.005028Z",
          "iopub.status.idle": "2021-12-13T05:20:57.039904Z",
          "shell.execute_reply": "2021-12-13T05:20:57.038882Z",
          "shell.execute_reply.started": "2021-12-13T05:20:57.005334Z"
        },
        "id": "kOtDhbwWrP4I",
        "outputId": "f8f5c616-995a-4937-f1a4-1abac7f550d0"
      },
      "outputs": [
        {
          "output_type": "stream",
          "name": "stdout",
          "text": [
            "Krutika\n"
          ]
        }
      ],
      "source": [
        "# What is your name! print your name!\n",
        "# Only use one print function\n",
        "print(\"Krutika\")\n"
      ]
    },
    {
      "cell_type": "markdown",
      "metadata": {
        "id": "kJxHTHrVrP4I"
      },
      "source": [
        "* `()` <= `Parentheses`\n",
        "* `''` <= `Single Quotes`\n",
        "* `\"\"` <= `Double Quotes`\n",
        "* `\\n` <= `New_line `\n",
        "* `#` <= `Used to comment inside code`"
      ]
    },
    {
      "cell_type": "code",
      "execution_count": null,
      "metadata": {
        "execution": {
          "iopub.execute_input": "2021-12-13T05:40:01.121499Z",
          "iopub.status.busy": "2021-12-13T05:40:01.12116Z",
          "iopub.status.idle": "2021-12-13T05:40:01.126402Z",
          "shell.execute_reply": "2021-12-13T05:40:01.125708Z",
          "shell.execute_reply.started": "2021-12-13T05:40:01.121464Z"
        },
        "id": "hqiWhz6srP4K"
      },
      "outputs": [],
      "source": [
        "# define variables named as with values: mukesh=7, z=6, rohan=5, longitude=4\n",
        "mukesh = 7\n",
        "z =  6\n",
        "rohan = 5\n",
        "longitude = 4\n"
      ]
    },
    {
      "cell_type": "code",
      "execution_count": null,
      "metadata": {
        "execution": {
          "iopub.execute_input": "2021-12-13T05:40:18.616711Z",
          "iopub.status.busy": "2021-12-13T05:40:18.615837Z",
          "iopub.status.idle": "2021-12-13T05:40:18.625081Z",
          "shell.execute_reply": "2021-12-13T05:40:18.624216Z",
          "shell.execute_reply.started": "2021-12-13T05:40:18.616672Z"
        },
        "id": "W77FFVIqrP4K",
        "colab": {
          "base_uri": "https://localhost:8080/"
        },
        "outputId": "37fd2068-fd2c-49cb-8565-13b871921065"
      },
      "outputs": [
        {
          "output_type": "stream",
          "name": "stdout",
          "text": [
            "5\n"
          ]
        }
      ],
      "source": [
        "# print required variable\n",
        "# output - 5\n",
        "print(rohan)"
      ]
    },
    {
      "cell_type": "markdown",
      "metadata": {
        "id": "89kwQhu5rP4K"
      },
      "source": [
        "Variable Assignment:\n",
        "**`Variable_Name = Value`**\n",
        "\n",
        "Variables Naming Rules:\n",
        "* `Python is case-senstive` => x=5 is different from X=5 (one is lowe and other is upper case)\n",
        "* `var name can't start with special character except underscore(_)` => _X = 7 is `valid`, @X = 7 is `invalid`\n",
        "* `var name can't start with number` => 9X = 7 is `invalid`, X9 = 7 is `valid`\n",
        "* can't use `keywords` as a variable name\n",
        "    *"
      ]
    },
    {
      "cell_type": "markdown",
      "metadata": {
        "id": "hiYt4qiJrP4K"
      },
      "source": [
        "# **`Declaring a Variable`** <br>\n"
      ]
    },
    {
      "cell_type": "code",
      "execution_count": null,
      "metadata": {
        "execution": {
          "iopub.execute_input": "2021-12-13T05:47:55.408175Z",
          "iopub.status.busy": "2021-12-13T05:47:55.407825Z",
          "iopub.status.idle": "2021-12-13T05:47:55.413447Z",
          "shell.execute_reply": "2021-12-13T05:47:55.412668Z",
          "shell.execute_reply.started": "2021-12-13T05:47:55.40814Z"
        },
        "id": "5pomjoc_rP4L"
      },
      "outputs": [],
      "source": [
        "# declare 4 variables with values as: ur_age 21,ur_weight 50.6, ur_first_name = 'Mukesh',ur_last_name = \"Manral\"\n",
        "ur_age = 21\n",
        "ur_weight = 50.6\n",
        "ur_first_name = 'Mukesh'\n",
        "ur_last_name = \"Manral\""
      ]
    },
    {
      "cell_type": "markdown",
      "metadata": {
        "id": "aD6_WvkKrP4L"
      },
      "source": [
        "# **`Data Type(Type of variable)`**"
      ]
    },
    {
      "cell_type": "markdown",
      "metadata": {
        "id": "snzoPkD3rP4L"
      },
      "source": [
        "| Name | Type | Description |\n",
        "| ---- | ---- | ----|\n",
        "|Integers | int | Integer number, like 34,-56 ...|\n",
        "|Float | float | Decimal number, like 3.4,-5.6 ...|\n",
        "|String| str | Ordered sequence of characters, like 'your name' |\n",
        "|Boolean |bool |Logical values indicating True or False only |"
      ]
    },
    {
      "cell_type": "code",
      "execution_count": null,
      "metadata": {
        "execution": {
          "iopub.execute_input": "2021-12-13T05:48:10.44207Z",
          "iopub.status.busy": "2021-12-13T05:48:10.441594Z",
          "iopub.status.idle": "2021-12-13T05:48:10.449074Z",
          "shell.execute_reply": "2021-12-13T05:48:10.448114Z",
          "shell.execute_reply.started": "2021-12-13T05:48:10.442018Z"
        },
        "id": "Bb_fmhaOrP4L",
        "colab": {
          "base_uri": "https://localhost:8080/"
        },
        "outputId": "91331a4e-fdfb-4594-ac09-4a68bd32b526"
      },
      "outputs": [
        {
          "output_type": "stream",
          "name": "stdout",
          "text": [
            "<class 'int'>\n",
            "<class 'float'>\n",
            "<class 'str'>\n",
            "<class 'str'>\n"
          ]
        }
      ],
      "source": [
        "# print type of ur_age,ur_weight,ur_first_name,ur_last_name variables\n",
        "print(type(ur_age))\n",
        "print(type(ur_weight))\n",
        "print(type(ur_first_name))\n",
        "print(type(ur_last_name))"
      ]
    },
    {
      "cell_type": "code",
      "execution_count": null,
      "metadata": {
        "execution": {
          "iopub.execute_input": "2021-12-13T05:49:37.869716Z",
          "iopub.status.busy": "2021-12-13T05:49:37.86939Z",
          "iopub.status.idle": "2021-12-13T05:49:37.875995Z",
          "shell.execute_reply": "2021-12-13T05:49:37.875066Z",
          "shell.execute_reply.started": "2021-12-13T05:49:37.869681Z"
        },
        "id": "iaADKqUwrP4L",
        "colab": {
          "base_uri": "https://localhost:8080/"
        },
        "outputId": "d26b6fdd-9d76-4a43-9a64-6c0cc22cd592"
      },
      "outputs": [
        {
          "output_type": "stream",
          "name": "stdout",
          "text": [
            "Your Age: 21\n",
            "Your Weight:50.6\n",
            "Your First Name: Mukesh\n",
            "Your Surname:Manral\n"
          ]
        }
      ],
      "source": [
        "# print values of ur_age,ur_weight,ur_first_name,ur_last_name variables\n",
        "print(f\"Your Age: {ur_age}\")\n",
        "print(f\"Your Weight:{ur_weight}\")\n",
        "print(f\"Your First Name: {ur_first_name}\")\n",
        "print(f\"Your Surname:{ur_last_name}\")"
      ]
    },
    {
      "cell_type": "code",
      "execution_count": null,
      "metadata": {
        "execution": {
          "iopub.execute_input": "2021-12-13T05:50:49.32591Z",
          "iopub.status.busy": "2021-12-13T05:50:49.325048Z",
          "iopub.status.idle": "2021-12-13T05:50:49.332343Z",
          "shell.execute_reply": "2021-12-13T05:50:49.331287Z",
          "shell.execute_reply.started": "2021-12-13T05:50:49.325858Z"
        },
        "id": "Hde3D2uQrP4L"
      },
      "outputs": [],
      "source": [
        "# make 2 variables with values as: ur_first_name 'Mukesh',ur_last_name'Mukesh'\n",
        "\n",
        "# make a variable TrueOrFalse which will have comparison of variables ur_last_name == ur_first_name\n"
      ]
    },
    {
      "cell_type": "code",
      "execution_count": null,
      "metadata": {
        "id": "5h3zpFPBWR8T",
        "colab": {
          "base_uri": "https://localhost:8080/"
        },
        "outputId": "01acd7b3-4bed-41ab-e25a-1a457cc78161"
      },
      "outputs": [
        {
          "output_type": "stream",
          "name": "stdout",
          "text": [
            "True\n"
          ]
        }
      ],
      "source": [
        "ur_first_name = 'Mukesh'\n",
        "ur_last_name = 'Mukesh'\n",
        "bool_var = (ur_first_name == ur_last_name)\n",
        "print(bool_var)"
      ]
    },
    {
      "cell_type": "code",
      "execution_count": null,
      "metadata": {
        "execution": {
          "iopub.execute_input": "2021-12-13T06:51:26.536827Z",
          "iopub.status.busy": "2021-12-13T06:51:26.536555Z",
          "iopub.status.idle": "2021-12-13T06:51:26.540484Z",
          "shell.execute_reply": "2021-12-13T06:51:26.539662Z",
          "shell.execute_reply.started": "2021-12-13T06:51:26.536795Z"
        },
        "id": "39JWxM7KrP4M",
        "colab": {
          "base_uri": "https://localhost:8080/"
        },
        "outputId": "8a3f8791-6a34-4d25-e4d5-8ce19e7c1bee"
      },
      "outputs": [
        {
          "output_type": "stream",
          "name": "stdout",
          "text": [
            "777\n"
          ]
        }
      ],
      "source": [
        "# define a variable name \"x\" and assign value 777 and print it\n",
        "x = 777\n",
        "print(x)"
      ]
    },
    {
      "cell_type": "markdown",
      "metadata": {
        "id": "QXnovK7lrP4M"
      },
      "source": [
        "* To view some data on screen, python have `print` function\n",
        "    * Using `print` function we can control view on output screen\n"
      ]
    },
    {
      "cell_type": "code",
      "execution_count": null,
      "metadata": {
        "id": "keNpeednWR8V"
      },
      "outputs": [],
      "source": []
    },
    {
      "cell_type": "markdown",
      "metadata": {
        "id": "4Wfm35b4rP4P"
      },
      "source": [
        "`Operators`: Symbols that represent mathematical or logical tasks\n",
        "\n",
        "Example:<br>\n",
        "`700` `+` `77`<br>\n",
        "* `+` <= Operator\n",
        "* `700` & `77` <= Operands\n"
      ]
    },
    {
      "cell_type": "code",
      "execution_count": null,
      "metadata": {
        "execution": {
          "iopub.execute_input": "2021-12-13T11:16:12.878107Z",
          "iopub.status.busy": "2021-12-13T11:16:12.87742Z",
          "iopub.status.idle": "2021-12-13T11:16:12.88218Z",
          "shell.execute_reply": "2021-12-13T11:16:12.881502Z",
          "shell.execute_reply.started": "2021-12-13T11:16:12.878061Z"
        },
        "id": "9eHULNrarP4Q"
      },
      "outputs": [],
      "source": [
        "# Initialize variables [x,y,z,zz] with values\n",
        "## x as 7 =>int ,\n",
        "## y as 77 =>int,\n",
        "## z as 77.7 => float,\n",
        "## zz as 'Hi' => string\n",
        "x = 7\n",
        "y = 77\n",
        "z = 77.7\n",
        "zz = \"Hi\""
      ]
    },
    {
      "cell_type": "markdown",
      "metadata": {
        "id": "kMGlbyturP4Q"
      },
      "source": [
        "# **`Arithmetic Operators`**"
      ]
    },
    {
      "cell_type": "code",
      "execution_count": null,
      "metadata": {
        "execution": {
          "iopub.execute_input": "2021-12-13T11:16:16.831632Z",
          "iopub.status.busy": "2021-12-13T11:16:16.831361Z",
          "iopub.status.idle": "2021-12-13T11:16:16.837568Z",
          "shell.execute_reply": "2021-12-13T11:16:16.836727Z",
          "shell.execute_reply.started": "2021-12-13T11:16:16.831606Z"
        },
        "id": "_7X7ChdtrP4Q",
        "colab": {
          "base_uri": "https://localhost:8080/"
        },
        "outputId": "cb473712-f556-4705-cd48-4ab5d467d2ad"
      },
      "outputs": [
        {
          "output_type": "stream",
          "name": "stdout",
          "text": [
            "84.7\n"
          ]
        }
      ],
      "source": [
        "# add x and z\n",
        "print( x + z )"
      ]
    },
    {
      "cell_type": "code",
      "execution_count": null,
      "metadata": {
        "execution": {
          "iopub.execute_input": "2021-12-13T11:16:30.203003Z",
          "iopub.status.busy": "2021-12-13T11:16:30.20271Z",
          "iopub.status.idle": "2021-12-13T11:16:30.208385Z",
          "shell.execute_reply": "2021-12-13T11:16:30.207581Z",
          "shell.execute_reply.started": "2021-12-13T11:16:30.20297Z"
        },
        "id": "VWA9vqXbrP4R",
        "colab": {
          "base_uri": "https://localhost:8080/"
        },
        "outputId": "b45fd43f-779f-4424-9b94-74edca63d29f"
      },
      "outputs": [
        {
          "output_type": "stream",
          "name": "stdout",
          "text": [
            "0.7000000000000028\n"
          ]
        }
      ],
      "source": [
        "# subtract z and y\n",
        "print( z - y )"
      ]
    },
    {
      "cell_type": "code",
      "execution_count": null,
      "metadata": {
        "execution": {
          "iopub.execute_input": "2021-12-13T11:16:33.722854Z",
          "iopub.status.busy": "2021-12-13T11:16:33.722346Z",
          "iopub.status.idle": "2021-12-13T11:16:33.727832Z",
          "shell.execute_reply": "2021-12-13T11:16:33.726714Z",
          "shell.execute_reply.started": "2021-12-13T11:16:33.722819Z"
        },
        "id": "Xs-S0MhCrP4R",
        "colab": {
          "base_uri": "https://localhost:8080/"
        },
        "outputId": "08c07dd1-c9ab-454b-ab51-c2b8f6c7ba24"
      },
      "outputs": [
        {
          "output_type": "stream",
          "name": "stdout",
          "text": [
            "543.9\n"
          ]
        }
      ],
      "source": [
        "# Multiply x and z\n",
        "print( x * z )"
      ]
    },
    {
      "cell_type": "code",
      "execution_count": null,
      "metadata": {
        "execution": {
          "iopub.status.busy": "2021-12-11T05:18:03.351545Z",
          "iopub.status.idle": "2021-12-11T05:18:03.351958Z",
          "shell.execute_reply": "2021-12-11T05:18:03.351816Z",
          "shell.execute_reply.started": "2021-12-11T05:18:03.3518Z"
        },
        "id": "QTAL9jikrP4R",
        "colab": {
          "base_uri": "https://localhost:8080/"
        },
        "outputId": "ace0934b-d497-4e9b-a127-c8442e4b802f"
      },
      "outputs": [
        {
          "output_type": "stream",
          "name": "stdout",
          "text": [
            "4.614426248242042e+65\n"
          ]
        }
      ],
      "source": [
        "# Exponent (raise the power or times) x times z\n",
        "print( x ** z)"
      ]
    },
    {
      "cell_type": "code",
      "execution_count": null,
      "metadata": {
        "execution": {
          "iopub.execute_input": "2021-12-13T11:16:54.593185Z",
          "iopub.status.busy": "2021-12-13T11:16:54.592323Z",
          "iopub.status.idle": "2021-12-13T11:16:54.599677Z",
          "shell.execute_reply": "2021-12-13T11:16:54.598843Z",
          "shell.execute_reply.started": "2021-12-13T11:16:54.593129Z"
        },
        "id": "veuOn9YcrP4R",
        "colab": {
          "base_uri": "https://localhost:8080/"
        },
        "outputId": "eb8a66ce-1326-41d3-f64d-d150b8e00f10"
      },
      "outputs": [
        {
          "output_type": "stream",
          "name": "stdout",
          "text": [
            "0.09009009009009009\n"
          ]
        }
      ],
      "source": [
        "# division on x and z\n",
        "print( x / z)"
      ]
    },
    {
      "cell_type": "markdown",
      "metadata": {
        "id": "lPSllBVYrP4R"
      },
      "source": [
        "`//` => divides and returns integer value of quotient\n",
        "* It will dump digits after decimal"
      ]
    },
    {
      "cell_type": "code",
      "execution_count": null,
      "metadata": {
        "execution": {
          "iopub.execute_input": "2021-12-13T11:17:43.712052Z",
          "iopub.status.busy": "2021-12-13T11:17:43.711764Z",
          "iopub.status.idle": "2021-12-13T11:17:43.717685Z",
          "shell.execute_reply": "2021-12-13T11:17:43.716923Z",
          "shell.execute_reply.started": "2021-12-13T11:17:43.712021Z"
        },
        "id": "LjvFNdDHrP4R",
        "colab": {
          "base_uri": "https://localhost:8080/"
        },
        "outputId": "791d36b0-243c-4126-f009-c69b7051eedf"
      },
      "outputs": [
        {
          "output_type": "stream",
          "name": "stdout",
          "text": [
            "0.0\n"
          ]
        }
      ],
      "source": [
        "# floor division(ignores decimal) on x and z (gives quotient)\n",
        "print( x // z)"
      ]
    },
    {
      "cell_type": "code",
      "execution_count": null,
      "metadata": {
        "execution": {
          "iopub.execute_input": "2021-12-13T11:18:23.768814Z",
          "iopub.status.busy": "2021-12-13T11:18:23.768469Z",
          "iopub.status.idle": "2021-12-13T11:18:23.774541Z",
          "shell.execute_reply": "2021-12-13T11:18:23.773825Z",
          "shell.execute_reply.started": "2021-12-13T11:18:23.768775Z"
        },
        "id": "prGaXfI2rP4R",
        "colab": {
          "base_uri": "https://localhost:8080/"
        },
        "outputId": "4d56df9f-8472-4fdb-9750-ab65004ca47b"
      },
      "outputs": [
        {
          "output_type": "stream",
          "name": "stdout",
          "text": [
            "7.0\n"
          ]
        }
      ],
      "source": [
        "# Modulo(gives remainder) on x and z\n",
        "print( x % z)"
      ]
    },
    {
      "cell_type": "markdown",
      "metadata": {
        "id": "BqiZFRnxrP4R"
      },
      "source": [
        "# **`Comparison Operators`**"
      ]
    },
    {
      "cell_type": "code",
      "execution_count": null,
      "metadata": {
        "execution": {
          "iopub.execute_input": "2021-12-13T11:18:53.671899Z",
          "iopub.status.busy": "2021-12-13T11:18:53.671588Z",
          "iopub.status.idle": "2021-12-13T11:18:53.677758Z",
          "shell.execute_reply": "2021-12-13T11:18:53.676944Z",
          "shell.execute_reply.started": "2021-12-13T11:18:53.671852Z"
        },
        "id": "cZTjTlksrP4S",
        "colab": {
          "base_uri": "https://localhost:8080/"
        },
        "outputId": "ce2eef25-5d0f-49c1-94b4-627feea70f66"
      },
      "outputs": [
        {
          "output_type": "stream",
          "name": "stdout",
          "text": [
            "True\n"
          ]
        }
      ],
      "source": [
        "# comapre and see if x is less then z\n",
        "# can use '<' symbol\n",
        "\n",
        "comparison =  x < z\n",
        "print(comparison)"
      ]
    },
    {
      "cell_type": "code",
      "execution_count": null,
      "metadata": {
        "execution": {
          "iopub.execute_input": "2021-12-13T11:18:56.585807Z",
          "iopub.status.busy": "2021-12-13T11:18:56.585406Z",
          "iopub.status.idle": "2021-12-13T11:18:56.591392Z",
          "shell.execute_reply": "2021-12-13T11:18:56.590675Z",
          "shell.execute_reply.started": "2021-12-13T11:18:56.585775Z"
        },
        "id": "ugLB8T4zrP4S",
        "colab": {
          "base_uri": "https://localhost:8080/"
        },
        "outputId": "8215cd40-a6a9-49c2-c22b-fd1a03734ae6"
      },
      "outputs": [
        {
          "output_type": "stream",
          "name": "stdout",
          "text": [
            "<class 'bool'>\n"
          ]
        }
      ],
      "source": [
        "# check the type of above comaprison where it says comapre and see if x is less then z\n",
        "print(type(comparison))"
      ]
    },
    {
      "cell_type": "markdown",
      "metadata": {
        "id": "JvyfWt8NrP4S"
      },
      "source": [
        "* `Bool` => takes two values, either `True` or `False`"
      ]
    },
    {
      "cell_type": "code",
      "execution_count": null,
      "metadata": {
        "execution": {
          "iopub.execute_input": "2021-12-13T11:20:21.121906Z",
          "iopub.status.busy": "2021-12-13T11:20:21.121593Z",
          "iopub.status.idle": "2021-12-13T11:20:21.128235Z",
          "shell.execute_reply": "2021-12-13T11:20:21.127415Z",
          "shell.execute_reply.started": "2021-12-13T11:20:21.121858Z"
        },
        "id": "qrLXc7h8rP4S",
        "colab": {
          "base_uri": "https://localhost:8080/"
        },
        "outputId": "0335e8c0-3f1e-493b-ef2c-2aa4b276a31a"
      },
      "outputs": [
        {
          "output_type": "stream",
          "name": "stdout",
          "text": [
            "True\n"
          ]
        }
      ],
      "source": [
        "# compare and see if x is less then or equall to z\n",
        "# can use '<=' symbol\n",
        "comparison =  x <=  z\n",
        "print(comparison)"
      ]
    },
    {
      "cell_type": "code",
      "execution_count": null,
      "metadata": {
        "execution": {
          "iopub.execute_input": "2021-12-13T11:21:03.964669Z",
          "iopub.status.busy": "2021-12-13T11:21:03.964122Z",
          "iopub.status.idle": "2021-12-13T11:21:03.970529Z",
          "shell.execute_reply": "2021-12-13T11:21:03.969911Z",
          "shell.execute_reply.started": "2021-12-13T11:21:03.964617Z"
        },
        "id": "QITa8mAorP4S",
        "colab": {
          "base_uri": "https://localhost:8080/"
        },
        "outputId": "85876590-3a32-4848-be81-a403d06d1269"
      },
      "outputs": [
        {
          "output_type": "stream",
          "name": "stdout",
          "text": [
            "False\n"
          ]
        }
      ],
      "source": [
        "# comapre and see if x equall to z\n",
        "# can use '==' symbol\n",
        "comparison =  x ==  z\n",
        "print(comparison)"
      ]
    },
    {
      "cell_type": "code",
      "execution_count": null,
      "metadata": {
        "execution": {
          "iopub.execute_input": "2021-12-13T11:21:17.56085Z",
          "iopub.status.busy": "2021-12-13T11:21:17.560326Z",
          "iopub.status.idle": "2021-12-13T11:21:17.566991Z",
          "shell.execute_reply": "2021-12-13T11:21:17.566308Z",
          "shell.execute_reply.started": "2021-12-13T11:21:17.560801Z"
        },
        "id": "to09wf4lrP4S",
        "colab": {
          "base_uri": "https://localhost:8080/"
        },
        "outputId": "dcbef054-35d6-4782-e509-c5d792799f97"
      },
      "outputs": [
        {
          "output_type": "stream",
          "name": "stdout",
          "text": [
            "False\n"
          ]
        }
      ],
      "source": [
        "# comapre and see if x is greater than z\n",
        "# can use '>' symbol\n",
        "comparison =  x >  z\n",
        "print(comparison)"
      ]
    },
    {
      "cell_type": "code",
      "execution_count": null,
      "metadata": {
        "execution": {
          "iopub.status.busy": "2021-12-11T05:18:03.366407Z",
          "iopub.status.idle": "2021-12-11T05:18:03.366829Z",
          "shell.execute_reply": "2021-12-11T05:18:03.366687Z",
          "shell.execute_reply.started": "2021-12-11T05:18:03.36667Z"
        },
        "id": "3XjJEvQmrP4S",
        "colab": {
          "base_uri": "https://localhost:8080/"
        },
        "outputId": "5ab7101d-ac1e-4db8-daf4-87b95e23f1a8"
      },
      "outputs": [
        {
          "output_type": "stream",
          "name": "stdout",
          "text": [
            "False\n"
          ]
        }
      ],
      "source": [
        "# comapre and see if x is greater than or equall to z\n",
        "# can use '>=' symbol\n",
        "comparison =  x >=  z\n",
        "print(comparison)"
      ]
    },
    {
      "cell_type": "code",
      "execution_count": null,
      "metadata": {
        "execution": {
          "iopub.execute_input": "2021-12-13T11:21:27.087849Z",
          "iopub.status.busy": "2021-12-13T11:21:27.087572Z",
          "iopub.status.idle": "2021-12-13T11:21:27.094348Z",
          "shell.execute_reply": "2021-12-13T11:21:27.093707Z",
          "shell.execute_reply.started": "2021-12-13T11:21:27.087821Z"
        },
        "id": "U3R4NtLUrP4S",
        "colab": {
          "base_uri": "https://localhost:8080/"
        },
        "outputId": "218a2c43-8326-4cdf-d2fa-2f4cf690416a"
      },
      "outputs": [
        {
          "output_type": "stream",
          "name": "stdout",
          "text": [
            "True\n"
          ]
        }
      ],
      "source": [
        "# comapre and see if x is Not equall to z\n",
        "# can use '!=' symbol\n",
        "\n",
        "comparison =  x !=  z\n",
        "print(comparison)"
      ]
    },
    {
      "cell_type": "markdown",
      "metadata": {
        "id": "i1cSXmgbrP4T"
      },
      "source": [
        "# **`Logical Operators`**"
      ]
    },
    {
      "cell_type": "code",
      "execution_count": null,
      "metadata": {
        "execution": {
          "iopub.execute_input": "2021-12-13T11:22:13.637837Z",
          "iopub.status.busy": "2021-12-13T11:22:13.637267Z",
          "iopub.status.idle": "2021-12-13T11:22:13.644724Z",
          "shell.execute_reply": "2021-12-13T11:22:13.643893Z",
          "shell.execute_reply.started": "2021-12-13T11:22:13.637786Z"
        },
        "id": "qrf5nOLerP4T",
        "colab": {
          "base_uri": "https://localhost:8080/"
        },
        "outputId": "ce0f3364-0ae0-477f-f7fa-c40374be744d"
      },
      "outputs": [
        {
          "output_type": "stream",
          "name": "stdout",
          "text": [
            "True\n"
          ]
        }
      ],
      "source": [
        "# compare if 108 is equall to 108, 21 is equall to 21 using logical and\n",
        "# equall to => '=='\n",
        "# logical and => and\n",
        "print((108 == 108) and (21 ==  21))\n",
        "# in and both condition must be True to get a True"
      ]
    },
    {
      "cell_type": "code",
      "execution_count": null,
      "metadata": {
        "execution": {
          "iopub.execute_input": "2021-12-13T11:22:24.56808Z",
          "iopub.status.busy": "2021-12-13T11:22:24.567356Z",
          "iopub.status.idle": "2021-12-13T11:22:24.576075Z",
          "shell.execute_reply": "2021-12-13T11:22:24.574969Z",
          "shell.execute_reply.started": "2021-12-13T11:22:24.56804Z"
        },
        "id": "Zp51tX7NrP4T",
        "colab": {
          "base_uri": "https://localhost:8080/"
        },
        "outputId": "aa1da17d-d48a-40f4-e393-15a8f58f220f"
      },
      "outputs": [
        {
          "output_type": "stream",
          "name": "stdout",
          "text": [
            "False\n",
            "False\n",
            "False\n"
          ]
        }
      ],
      "source": [
        "# how above condition can give False as output show all those conditions\n",
        "print((108 != 108) and (21 ==  21))\n",
        "print((108 != 108) and (21 !=  21))\n",
        "print((108 == 108) and (21 !=  21))"
      ]
    },
    {
      "cell_type": "code",
      "execution_count": null,
      "metadata": {
        "execution": {
          "iopub.execute_input": "2021-12-13T11:22:39.576213Z",
          "iopub.status.busy": "2021-12-13T11:22:39.575636Z",
          "iopub.status.idle": "2021-12-13T11:22:39.58328Z",
          "shell.execute_reply": "2021-12-13T11:22:39.582673Z",
          "shell.execute_reply.started": "2021-12-13T11:22:39.576179Z"
        },
        "id": "TRMHLAHkrP4T",
        "colab": {
          "base_uri": "https://localhost:8080/"
        },
        "outputId": "a9990ba2-e161-4f27-d824-c04ba3784656"
      },
      "outputs": [
        {
          "output_type": "stream",
          "name": "stdout",
          "text": [
            "True\n",
            "True\n",
            "True\n"
          ]
        }
      ],
      "source": [
        "# compare if 108 is equall to 108, 21 is equall to 11 using logical or\n",
        "# equall to => '=='\n",
        "# logical or => or\n",
        "print((108 == 108) or (21 ==  21))\n",
        "print((108 != 108) or (21 ==  21))\n",
        "print((108 == 108) or (21 !=  21))\n",
        "# in or Only one condition need to be True to get a True"
      ]
    },
    {
      "cell_type": "code",
      "execution_count": null,
      "metadata": {
        "colab": {
          "base_uri": "https://localhost:8080/"
        },
        "execution": {
          "iopub.execute_input": "2021-12-13T11:22:58.998022Z",
          "iopub.status.busy": "2021-12-13T11:22:58.997422Z",
          "iopub.status.idle": "2021-12-13T11:22:59.004662Z",
          "shell.execute_reply": "2021-12-13T11:22:59.003884Z",
          "shell.execute_reply.started": "2021-12-13T11:22:58.997978Z"
        },
        "id": "QQRfWOkzrP4T",
        "outputId": "f86d1096-38dc-40d1-87d5-e2fbf69afeb3"
      },
      "outputs": [
        {
          "output_type": "execute_result",
          "data": {
            "text/plain": [
              "True"
            ]
          },
          "metadata": {},
          "execution_count": 95
        }
      ],
      "source": [
        "# this is for you to understand it\n",
        "(108 == 108) or (21 == 11) or (108 <= 11)"
      ]
    },
    {
      "cell_type": "code",
      "execution_count": null,
      "metadata": {
        "id": "vjVfR94EWR8y"
      },
      "outputs": [],
      "source": []
    },
    {
      "cell_type": "markdown",
      "metadata": {
        "id": "r5LWKR-irP4T"
      },
      "source": [
        "# **`if`--- `else`** => to handle single condition <br>\n",
        "# **`if`--- `elif`--- `else`** => to handle Multiple condition"
      ]
    },
    {
      "cell_type": "markdown",
      "metadata": {
        "id": "_7lo_XpYrP4U"
      },
      "source": [
        "`Observe in Python code:`\n",
        "* `if` => statement in python\n",
        "* `else` => statement in python\n",
        "* `:` => colon => denotes start of if block i.e. any line written after colon belong to if condition\n",
        "* `....` => see then as indentation i.e. 4 spaces => indentation indicates all code belong to only if and then another indentation indicates code for only else block"
      ]
    },
    {
      "cell_type": "code",
      "execution_count": null,
      "metadata": {
        "execution": {
          "iopub.execute_input": "2021-12-13T12:04:09.255152Z",
          "iopub.status.busy": "2021-12-13T12:04:09.254359Z",
          "iopub.status.idle": "2021-12-13T12:04:09.301228Z",
          "shell.execute_reply": "2021-12-13T12:04:09.300137Z",
          "shell.execute_reply.started": "2021-12-13T12:04:09.254985Z"
        },
        "id": "e2SpODuorP4U",
        "colab": {
          "base_uri": "https://localhost:8080/"
        },
        "outputId": "b4853150-23b2-4c83-9807-d15c50f3949b"
      },
      "outputs": [
        {
          "output_type": "stream",
          "name": "stdout",
          "text": [
            "True\n"
          ]
        }
      ],
      "source": [
        "# make variable with value as : money 100000\n",
        "\n",
        "# see output of money > 2000\n",
        "money = 100000\n",
        "print(money > 2000)"
      ]
    },
    {
      "cell_type": "code",
      "execution_count": null,
      "metadata": {
        "execution": {
          "iopub.execute_input": "2021-12-13T12:04:41.020917Z",
          "iopub.status.busy": "2021-12-13T12:04:41.020562Z",
          "iopub.status.idle": "2021-12-13T12:04:41.027788Z",
          "shell.execute_reply": "2021-12-13T12:04:41.026428Z",
          "shell.execute_reply.started": "2021-12-13T12:04:41.020881Z"
        },
        "id": "8rLKbxCqrP4U",
        "colab": {
          "base_uri": "https://localhost:8080/"
        },
        "outputId": "fe8069f4-6380-4428-84af-e6be95e95f86"
      },
      "outputs": [
        {
          "output_type": "stream",
          "name": "stdout",
          "text": [
            "You can join Data science course.\n"
          ]
        }
      ],
      "source": [
        "# assign money variable value of 10000\n",
        "##### say you have this much ammount in your account\n",
        "\n",
        "# start of if condition\n",
        "# if money is greater then 1000 which is data science course free\n",
        "# if money > 1000 is false i.e. you have less money then 1000 in your account then else will work for now only if is working\n",
        "if money > 1000:\n",
        "  print(\"You can join Data science course.\")\n",
        "else:\n",
        "  print(\"You have less money to join the course\")"
      ]
    },
    {
      "cell_type": "code",
      "execution_count": null,
      "metadata": {
        "execution": {
          "iopub.execute_input": "2021-12-13T12:12:40.145964Z",
          "iopub.status.busy": "2021-12-13T12:12:40.145355Z",
          "iopub.status.idle": "2021-12-13T12:12:45.469908Z",
          "shell.execute_reply": "2021-12-13T12:12:45.469259Z",
          "shell.execute_reply.started": "2021-12-13T12:12:40.145915Z"
        },
        "id": "UkSB0BDKrP4V"
      },
      "outputs": [],
      "source": [
        "# take a test_score variable with 80 in it.\n",
        "\n",
        "# if test_score greater then 80 then print A grade\n",
        "# elif test_score greater then 60 and less then 80 print B grade\n",
        "# else print Nothing for you"
      ]
    },
    {
      "cell_type": "code",
      "execution_count": null,
      "metadata": {
        "id": "HTHk-YC-WR81",
        "colab": {
          "base_uri": "https://localhost:8080/"
        },
        "outputId": "be38d745-eb88-47bc-cdb2-856294323e11"
      },
      "outputs": [
        {
          "output_type": "stream",
          "name": "stdout",
          "text": [
            "Nothing for you\n"
          ]
        }
      ],
      "source": [
        "test_score = 80\n",
        "if test_score > 80:\n",
        "  print(\"A grade\")\n",
        "elif 60 < test_score < 80 :\n",
        "  print(\"B grade\")\n",
        "else :\n",
        "  print(\"Nothing for you\")"
      ]
    },
    {
      "cell_type": "markdown",
      "metadata": {
        "id": "-rJ7MhnOWR82"
      },
      "source": [
        "# **`Python Loops`**"
      ]
    },
    {
      "cell_type": "code",
      "execution_count": null,
      "metadata": {
        "colab": {
          "base_uri": "https://localhost:8080/",
          "height": 35
        },
        "id": "UsOavUkNrP4X",
        "outputId": "5bb13561-8b6b-44f7-8d2d-fa3ef6f26550"
      },
      "outputs": [
        {
          "output_type": "execute_result",
          "data": {
            "text/plain": [
              "'\\nfor iterating_variable in sequence:\\n    statement(s)\\n'"
            ],
            "application/vnd.google.colaboratory.intrinsic+json": {
              "type": "string"
            }
          },
          "metadata": {},
          "execution_count": 100
        }
      ],
      "source": [
        "\"\"\"\n",
        "for iterating_variable in sequence:\n",
        "    statement(s)\n",
        "\"\"\""
      ]
    },
    {
      "cell_type": "code",
      "execution_count": null,
      "metadata": {
        "colab": {
          "base_uri": "https://localhost:8080/"
        },
        "execution": {
          "iopub.execute_input": "2021-12-14T05:27:42.974824Z",
          "iopub.status.busy": "2021-12-14T05:27:42.973933Z",
          "iopub.status.idle": "2021-12-14T05:27:42.981157Z",
          "shell.execute_reply": "2021-12-14T05:27:42.980185Z",
          "shell.execute_reply.started": "2021-12-14T05:27:42.97478Z"
        },
        "id": "v3DtstO3rP4X",
        "outputId": "428a5f2d-2bde-4e6d-ed5c-86353f52c4c2"
      },
      "outputs": [
        {
          "output_type": "stream",
          "name": "stdout",
          "text": [
            "0\n",
            "1\n",
            "2\n",
            "3\n",
            "4\n",
            "5\n",
            "6\n",
            "7\n",
            "8\n",
            "9\n"
          ]
        }
      ],
      "source": [
        "for iterating_variable in range(10):\n",
        "    print(iterating_variable)"
      ]
    },
    {
      "cell_type": "code",
      "execution_count": null,
      "metadata": {
        "execution": {
          "iopub.execute_input": "2021-12-14T05:29:31.818786Z",
          "iopub.status.busy": "2021-12-14T05:29:31.818325Z",
          "iopub.status.idle": "2021-12-14T05:29:31.825965Z",
          "shell.execute_reply": "2021-12-14T05:29:31.82532Z",
          "shell.execute_reply.started": "2021-12-14T05:29:31.818752Z"
        },
        "id": "nD9f1mMwrP4X",
        "colab": {
          "base_uri": "https://localhost:8080/"
        },
        "outputId": "8e127929-56ee-4324-fef1-32298debbe5a"
      },
      "outputs": [
        {
          "output_type": "stream",
          "name": "stdout",
          "text": [
            "I love sports\n",
            "\n",
            "I love sports\n",
            "\n",
            "I love sports\n",
            "\n",
            "I love sports\n",
            "\n",
            "I love sports\n",
            "\n",
            "I love sports\n",
            "\n",
            "I love sports\n",
            "\n",
            "I love sports\n",
            "\n",
            "I love sports\n",
            "\n",
            "I love sports\n",
            "\n"
          ]
        }
      ],
      "source": [
        "# print 'I love sports' 10 times using for loop\n",
        "for i in range(10):\n",
        "  print(\"I love sports\\n\")"
      ]
    },
    {
      "cell_type": "markdown",
      "metadata": {
        "id": "F10cQq2RrP4X"
      },
      "source": [
        "`10` => `stoping criteria` of, for loop"
      ]
    },
    {
      "cell_type": "markdown",
      "metadata": {
        "id": "sYmBZqXkrP4X"
      },
      "source": [
        "* `in` => keyword\n",
        "* `sequence` => on which to itterate\n",
        "* `:` => colon , start of for loop"
      ]
    },
    {
      "cell_type": "markdown",
      "metadata": {
        "id": "nR0WJpXwrP4X"
      },
      "source": [
        "`!=` = not equall to => `behaves as a stoping criteria`"
      ]
    },
    {
      "cell_type": "code",
      "execution_count": null,
      "metadata": {
        "colab": {
          "base_uri": "https://localhost:8080/",
          "height": 35
        },
        "execution": {
          "iopub.status.busy": "2021-12-11T05:18:11.230229Z",
          "iopub.status.idle": "2021-12-11T05:18:11.230505Z",
          "shell.execute_reply": "2021-12-11T05:18:11.230373Z",
          "shell.execute_reply.started": "2021-12-11T05:18:11.230358Z"
        },
        "id": "vYJsdLnerP4Y",
        "outputId": "9f3f20d0-75cf-40cd-e1d7-66b688c0c44b"
      },
      "outputs": [
        {
          "output_type": "execute_result",
          "data": {
            "text/plain": [
              "'\\nwhile comparison:\\n    statements(s)\\n'"
            ],
            "application/vnd.google.colaboratory.intrinsic+json": {
              "type": "string"
            }
          },
          "metadata": {},
          "execution_count": 103
        }
      ],
      "source": [
        "# Syntax of while loop\n",
        "\"\"\"\n",
        "while comparison:\n",
        "    statements(s)\n",
        "\"\"\""
      ]
    },
    {
      "cell_type": "code",
      "execution_count": null,
      "metadata": {
        "execution": {
          "iopub.execute_input": "2021-12-14T05:32:44.799916Z",
          "iopub.status.busy": "2021-12-14T05:32:44.799592Z",
          "iopub.status.idle": "2021-12-14T05:32:44.807523Z",
          "shell.execute_reply": "2021-12-14T05:32:44.806458Z",
          "shell.execute_reply.started": "2021-12-14T05:32:44.799882Z"
        },
        "id": "No1lV66XrP4Y",
        "colab": {
          "base_uri": "https://localhost:8080/"
        },
        "outputId": "33743ce7-fbdc-49ee-e40b-98ff20e73d35"
      },
      "outputs": [
        {
          "output_type": "stream",
          "name": "stdout",
          "text": [
            "0\n",
            "1\n",
            "2\n",
            "3\n",
            "4\n",
            "5\n",
            "6\n",
            "7\n",
            "8\n",
            "9\n",
            "10\n"
          ]
        }
      ],
      "source": [
        "# while loop\n",
        "\n",
        "# save 0 in variable number\n",
        "\n",
        "# print till 10 using while loop\n",
        "var_num = 0\n",
        "while var_num <= 10:\n",
        "  print(var_num)\n",
        "  var_num += 1"
      ]
    },
    {
      "cell_type": "markdown",
      "metadata": {
        "id": "9oFT7qEjrP4Y"
      },
      "source": [
        "* Initialized variable `number = 0` and then increment it's value in each iteration\n",
        "* Loop will only continue to run only if value is less than 10"
      ]
    },
    {
      "cell_type": "markdown",
      "metadata": {
        "id": "ZFHHxSeqrP4Z"
      },
      "source": [
        "# **`Type of Jump Statements`** <br>\n",
        "`Break Statement`\n",
        "`Continue Statement`"
      ]
    },
    {
      "cell_type": "markdown",
      "metadata": {
        "id": "2TlMjfJVrP4a"
      },
      "source": [
        "# **`Break Statement`**\n"
      ]
    },
    {
      "cell_type": "code",
      "execution_count": null,
      "metadata": {
        "execution": {
          "iopub.execute_input": "2021-12-14T09:25:34.60943Z",
          "iopub.status.busy": "2021-12-14T09:25:34.609121Z",
          "iopub.status.idle": "2021-12-14T09:25:34.617876Z",
          "shell.execute_reply": "2021-12-14T09:25:34.616894Z",
          "shell.execute_reply.started": "2021-12-14T09:25:34.609398Z"
        },
        "id": "9E-BFzqUrP4a",
        "colab": {
          "base_uri": "https://localhost:8080/"
        },
        "outputId": "cce82294-cdfc-4703-f6e0-532558795d14"
      },
      "outputs": [
        {
          "output_type": "stream",
          "name": "stdout",
          "text": [
            "The number is : 0\n",
            "The number is : 1\n",
            "The number is : 2\n",
            "The number is : 3\n",
            "The number is : 4\n"
          ]
        }
      ],
      "source": [
        "# example that uses break statement in a for loop\n",
        "\n",
        "# take range(10) and print 'The number is' + value\n",
        "# break when num equals 5\n",
        "for num in range(10):\n",
        "  if num == 5:\n",
        "    break\n",
        "  print(\"The number is :\", num)"
      ]
    },
    {
      "cell_type": "markdown",
      "metadata": {
        "id": "oPN-KW8ErP4a"
      },
      "source": [
        "# **`Continue Statement`**\n"
      ]
    },
    {
      "cell_type": "code",
      "execution_count": null,
      "metadata": {
        "execution": {
          "iopub.execute_input": "2021-12-14T06:14:44.160916Z",
          "iopub.status.busy": "2021-12-14T06:14:44.160579Z",
          "iopub.status.idle": "2021-12-14T06:14:44.169578Z",
          "shell.execute_reply": "2021-12-14T06:14:44.168622Z",
          "shell.execute_reply.started": "2021-12-14T06:14:44.160884Z"
        },
        "id": "I7RGHGcDrP4a"
      },
      "outputs": [],
      "source": [
        "# Using same `for loop program` as in Break Statement section above\n",
        "# Use a continue statement rather than a break statement\n",
        "\n",
        "# take range(10) and print 'The number is' + value\n",
        "# continue when num equals 5\n"
      ]
    },
    {
      "cell_type": "code",
      "execution_count": null,
      "metadata": {
        "id": "nHlvsWfWWR8_",
        "colab": {
          "base_uri": "https://localhost:8080/"
        },
        "outputId": "12ddd5b2-0159-467e-e2a1-23933f4eff6e"
      },
      "outputs": [
        {
          "output_type": "stream",
          "name": "stdout",
          "text": [
            "Number is : 0\n",
            "Number is : 1\n",
            "Number is : 2\n",
            "Number is : 3\n",
            "Number is : 4\n",
            "Number is : 6\n",
            "Number is : 7\n",
            "Number is : 8\n",
            "Number is : 9\n"
          ]
        }
      ],
      "source": [
        "for num in range(10):\n",
        "  if num == 5:\n",
        "    continue\n",
        "  print(\"Number is :\" ,num)"
      ]
    },
    {
      "cell_type": "markdown",
      "metadata": {
        "id": "PMmen0JyrP4r"
      },
      "source": [
        "# **`String Manipulation`**"
      ]
    },
    {
      "cell_type": "code",
      "execution_count": null,
      "metadata": {
        "id": "8J1dpy6rrP4r"
      },
      "outputs": [],
      "source": [
        "string_ = '' or \"\" or \"\"\" \"\"\""
      ]
    },
    {
      "cell_type": "code",
      "execution_count": null,
      "metadata": {
        "execution": {
          "iopub.execute_input": "2021-12-13T11:01:34.238451Z",
          "iopub.status.busy": "2021-12-13T11:01:34.238169Z",
          "iopub.status.idle": "2021-12-13T11:01:34.244158Z",
          "shell.execute_reply": "2021-12-13T11:01:34.243186Z",
          "shell.execute_reply.started": "2021-12-13T11:01:34.238418Z"
        },
        "id": "P4TiJEQCrP4s"
      },
      "outputs": [],
      "source": [
        "# define a string variable with \"We are creating next generation data science eco-system at CollegeRanker\"\n",
        "\n",
        "str_1 =  \"We are creating next generation data science eco-system at CollegeRanker\""
      ]
    },
    {
      "cell_type": "code",
      "execution_count": null,
      "metadata": {
        "execution": {
          "iopub.execute_input": "2021-12-13T11:01:34.958307Z",
          "iopub.status.busy": "2021-12-13T11:01:34.957656Z",
          "iopub.status.idle": "2021-12-13T11:01:34.963401Z",
          "shell.execute_reply": "2021-12-13T11:01:34.96252Z",
          "shell.execute_reply.started": "2021-12-13T11:01:34.958266Z"
        },
        "id": "Ujfo-CHZrP4s",
        "colab": {
          "base_uri": "https://localhost:8080/"
        },
        "outputId": "8d45710b-110c-4bdd-8992-be19abb4e678"
      },
      "outputs": [
        {
          "output_type": "stream",
          "name": "stdout",
          "text": [
            "72\n"
          ]
        }
      ],
      "source": [
        "# Find length of string including spaces\n",
        "\n",
        "print(len(str_1))"
      ]
    },
    {
      "cell_type": "code",
      "execution_count": null,
      "metadata": {
        "execution": {
          "iopub.execute_input": "2021-12-13T11:01:42.029037Z",
          "iopub.status.busy": "2021-12-13T11:01:42.028477Z",
          "iopub.status.idle": "2021-12-13T11:01:42.035886Z",
          "shell.execute_reply": "2021-12-13T11:01:42.035025Z",
          "shell.execute_reply.started": "2021-12-13T11:01:42.02899Z"
        },
        "id": "huRY2kW4rP4s",
        "colab": {
          "base_uri": "https://localhost:8080/",
          "height": 35
        },
        "outputId": "4f03287b-1854-4fed-91fd-fed4fea6aa25"
      },
      "outputs": [
        {
          "output_type": "execute_result",
          "data": {
            "text/plain": [
              "'W'"
            ],
            "application/vnd.google.colaboratory.intrinsic+json": {
              "type": "string"
            }
          },
          "metadata": {},
          "execution_count": 111
        }
      ],
      "source": [
        "# Access characters in a string with indexing i.e string[0]\n",
        "\n",
        "str_1[0]"
      ]
    },
    {
      "cell_type": "code",
      "execution_count": null,
      "metadata": {
        "execution": {
          "iopub.execute_input": "2021-12-13T11:01:54.758166Z",
          "iopub.status.busy": "2021-12-13T11:01:54.757886Z",
          "iopub.status.idle": "2021-12-13T11:01:54.76332Z",
          "shell.execute_reply": "2021-12-13T11:01:54.762662Z",
          "shell.execute_reply.started": "2021-12-13T11:01:54.758136Z"
        },
        "id": "ynPqdSYdrP4s",
        "colab": {
          "base_uri": "https://localhost:8080/",
          "height": 35
        },
        "outputId": "03ef49e6-ef35-4ba1-c555-2dcab6b5c129"
      },
      "outputs": [
        {
          "output_type": "execute_result",
          "data": {
            "text/plain": [
              "'r'"
            ],
            "application/vnd.google.colaboratory.intrinsic+json": {
              "type": "string"
            }
          },
          "metadata": {},
          "execution_count": 112
        }
      ],
      "source": [
        "# Access characters with negative indexing i.e string[-1]\n",
        "\n",
        "str_1[-1]"
      ]
    },
    {
      "cell_type": "markdown",
      "metadata": {
        "id": "O9VaefTGrP4s"
      },
      "source": [
        "# String Slicing"
      ]
    },
    {
      "cell_type": "code",
      "execution_count": null,
      "metadata": {
        "execution": {
          "iopub.execute_input": "2021-12-13T11:02:05.078251Z",
          "iopub.status.busy": "2021-12-13T11:02:05.077467Z",
          "iopub.status.idle": "2021-12-13T11:02:05.08393Z",
          "shell.execute_reply": "2021-12-13T11:02:05.083137Z",
          "shell.execute_reply.started": "2021-12-13T11:02:05.078214Z"
        },
        "id": "ry8spVYHrP4s",
        "colab": {
          "base_uri": "https://localhost:8080/",
          "height": 35
        },
        "outputId": "00838944-2dec-4a6a-9199-5be881b258a5"
      },
      "outputs": [
        {
          "output_type": "execute_result",
          "data": {
            "text/plain": [
              "'We are'"
            ],
            "application/vnd.google.colaboratory.intrinsic+json": {
              "type": "string"
            }
          },
          "metadata": {},
          "execution_count": 113
        }
      ],
      "source": [
        "# select string from first to 6th element i.e string[:6]\n",
        "\n",
        "str_1[:6]"
      ]
    },
    {
      "cell_type": "code",
      "execution_count": null,
      "metadata": {
        "execution": {
          "iopub.execute_input": "2021-12-13T11:02:17.092026Z",
          "iopub.status.busy": "2021-12-13T11:02:17.091514Z",
          "iopub.status.idle": "2021-12-13T11:02:17.098478Z",
          "shell.execute_reply": "2021-12-13T11:02:17.097041Z",
          "shell.execute_reply.started": "2021-12-13T11:02:17.091993Z"
        },
        "id": "9yyS6grLrP4s",
        "colab": {
          "base_uri": "https://localhost:8080/",
          "height": 35
        },
        "outputId": "9ddd1387-f9b2-429c-f55d-69708c2aa5f4"
      },
      "outputs": [
        {
          "output_type": "execute_result",
          "data": {
            "text/plain": [
              "'creating next generation data science eco-system at Col'"
            ],
            "application/vnd.google.colaboratory.intrinsic+json": {
              "type": "string"
            }
          },
          "metadata": {},
          "execution_count": 114
        }
      ],
      "source": [
        "# select string from 7th to negative 10th element i.e string[7:-10]\n",
        "\n",
        "str_1[7:-10]"
      ]
    },
    {
      "cell_type": "markdown",
      "metadata": {
        "id": "IE-m76lwrP4s"
      },
      "source": [
        "Count of a particular `character` in a string"
      ]
    },
    {
      "cell_type": "code",
      "execution_count": null,
      "metadata": {
        "execution": {
          "iopub.execute_input": "2021-12-13T11:02:32.813513Z",
          "iopub.status.busy": "2021-12-13T11:02:32.813226Z",
          "iopub.status.idle": "2021-12-13T11:02:32.820308Z",
          "shell.execute_reply": "2021-12-13T11:02:32.819443Z",
          "shell.execute_reply.started": "2021-12-13T11:02:32.813481Z"
        },
        "id": "036-jd2TrP4s",
        "colab": {
          "base_uri": "https://localhost:8080/"
        },
        "outputId": "e30b3d81-a969-48e9-bafb-8d9a279cdbed"
      },
      "outputs": [
        {
          "output_type": "execute_result",
          "data": {
            "text/plain": [
              "4"
            ]
          },
          "metadata": {},
          "execution_count": 115
        }
      ],
      "source": [
        "\n",
        "str_1.count(\"c\")"
      ]
    },
    {
      "cell_type": "markdown",
      "metadata": {
        "id": "6BhlvAFmrP4s"
      },
      "source": [
        "Count of a particular `sub-string` in a string"
      ]
    },
    {
      "cell_type": "code",
      "execution_count": null,
      "metadata": {
        "execution": {
          "iopub.execute_input": "2021-12-13T11:02:46.68983Z",
          "iopub.status.busy": "2021-12-13T11:02:46.689548Z",
          "iopub.status.idle": "2021-12-13T11:02:46.696782Z",
          "shell.execute_reply": "2021-12-13T11:02:46.69582Z",
          "shell.execute_reply.started": "2021-12-13T11:02:46.6898Z"
        },
        "id": "pzaxuLCarP4s",
        "colab": {
          "base_uri": "https://localhost:8080/"
        },
        "outputId": "061e1553-ca08-48f1-afcf-6bc8fc13ada6"
      },
      "outputs": [
        {
          "output_type": "execute_result",
          "data": {
            "text/plain": [
              "1"
            ]
          },
          "metadata": {},
          "execution_count": 116
        }
      ],
      "source": [
        "str_1.count(\"next\")\n"
      ]
    },
    {
      "cell_type": "markdown",
      "metadata": {
        "id": "gbyWCeAwrP4s"
      },
      "source": [
        "Find a substring in string using `find` and `index` function"
      ]
    },
    {
      "cell_type": "code",
      "execution_count": null,
      "metadata": {
        "execution": {
          "iopub.execute_input": "2021-12-13T11:03:44.010815Z",
          "iopub.status.busy": "2021-12-13T11:03:44.010507Z",
          "iopub.status.idle": "2021-12-13T11:03:44.017299Z",
          "shell.execute_reply": "2021-12-13T11:03:44.016185Z",
          "shell.execute_reply.started": "2021-12-13T11:03:44.010781Z"
        },
        "id": "tfFcaCXxrP4t"
      },
      "outputs": [],
      "source": [
        "# .find() => if present it will return starting index, not found then it will return -1\n",
        "# .index() => if present it will return starting index, not found then it will give error\n",
        "\n"
      ]
    },
    {
      "cell_type": "code",
      "execution_count": null,
      "metadata": {
        "execution": {
          "iopub.execute_input": "2021-12-13T11:04:48.605999Z",
          "iopub.status.busy": "2021-12-13T11:04:48.605575Z",
          "iopub.status.idle": "2021-12-13T11:04:48.611854Z",
          "shell.execute_reply": "2021-12-13T11:04:48.611143Z",
          "shell.execute_reply.started": "2021-12-13T11:04:48.605962Z"
        },
        "id": "QK6TfpWyrP4t",
        "colab": {
          "base_uri": "https://localhost:8080/"
        },
        "outputId": "0b9456d4-c5b2-4b70-e029-611d0d8ec8ab"
      },
      "outputs": [
        {
          "output_type": "stream",
          "name": "stdout",
          "text": [
            "-1\n",
            "-1\n"
          ]
        }
      ],
      "source": [
        "### Checking whether string `startswith` or `endswith` a particular substring or not\n",
        "\n",
        "print(str_1.find(\"startwith\"))\n",
        "print(str_1.find(\"endswith\"))"
      ]
    },
    {
      "cell_type": "code",
      "execution_count": null,
      "metadata": {
        "execution": {
          "iopub.execute_input": "2021-12-13T11:05:06.532097Z",
          "iopub.status.busy": "2021-12-13T11:05:06.531667Z",
          "iopub.status.idle": "2021-12-13T11:05:06.53704Z",
          "shell.execute_reply": "2021-12-13T11:05:06.536136Z",
          "shell.execute_reply.started": "2021-12-13T11:05:06.532065Z"
        },
        "id": "KEUqKWYqrP4t"
      },
      "outputs": [],
      "source": [
        "\n"
      ]
    },
    {
      "cell_type": "code",
      "execution_count": null,
      "metadata": {
        "execution": {
          "iopub.execute_input": "2021-12-13T11:05:29.695055Z",
          "iopub.status.busy": "2021-12-13T11:05:29.694529Z",
          "iopub.status.idle": "2021-12-13T11:05:29.700213Z",
          "shell.execute_reply": "2021-12-13T11:05:29.699432Z",
          "shell.execute_reply.started": "2021-12-13T11:05:29.695023Z"
        },
        "id": "LpEf2Vi_rP4t",
        "colab": {
          "base_uri": "https://localhost:8080/"
        },
        "outputId": "d594139e-91ba-43c6-85b0-cd1616d585e9"
      },
      "outputs": [
        {
          "output_type": "stream",
          "name": "stdout",
          "text": [
            "WE ARE CREATING NEXT GENERATION DATA SCIENCE ECO-SYSTEM AT COLLEGERANKER\n"
          ]
        }
      ],
      "source": [
        "### Converting string to upper case ###\n",
        "\n",
        "str_1 = str_1.upper()\n",
        "print(str_1)"
      ]
    },
    {
      "cell_type": "code",
      "execution_count": null,
      "metadata": {
        "execution": {
          "iopub.execute_input": "2021-12-13T11:05:43.600499Z",
          "iopub.status.busy": "2021-12-13T11:05:43.599994Z",
          "iopub.status.idle": "2021-12-13T11:05:43.605902Z",
          "shell.execute_reply": "2021-12-13T11:05:43.604859Z",
          "shell.execute_reply.started": "2021-12-13T11:05:43.600462Z"
        },
        "id": "C-lc1BM5rP4t",
        "colab": {
          "base_uri": "https://localhost:8080/"
        },
        "outputId": "9bc49aa3-c4f3-4841-8736-4fddbf54a0e8"
      },
      "outputs": [
        {
          "output_type": "stream",
          "name": "stdout",
          "text": [
            "we are creating next generation data science eco-system at collegeranker\n"
          ]
        }
      ],
      "source": [
        "### Converting only first character of string to upper case\n",
        "str_1 = str_1.lower()\n",
        "print(str_1)"
      ]
    },
    {
      "cell_type": "code",
      "execution_count": null,
      "metadata": {
        "execution": {
          "iopub.execute_input": "2021-12-13T11:06:19.800912Z",
          "iopub.status.busy": "2021-12-13T11:06:19.800396Z",
          "iopub.status.idle": "2021-12-13T11:06:19.806627Z",
          "shell.execute_reply": "2021-12-13T11:06:19.805745Z",
          "shell.execute_reply.started": "2021-12-13T11:06:19.800858Z"
        },
        "id": "eUfso5gHrP4t",
        "colab": {
          "base_uri": "https://localhost:8080/"
        },
        "outputId": "de11c916-d7b8-4375-a791-f6362a0d645c"
      },
      "outputs": [
        {
          "output_type": "stream",
          "name": "stdout",
          "text": [
            "True\n",
            "False\n"
          ]
        }
      ],
      "source": [
        "### Checking if string is in lower case or upper case\n",
        "print(str_1.islower())\n",
        "print(str_1.isupper())\n"
      ]
    },
    {
      "cell_type": "code",
      "execution_count": null,
      "metadata": {
        "execution": {
          "iopub.execute_input": "2021-12-13T11:07:14.639468Z",
          "iopub.status.busy": "2021-12-13T11:07:14.639007Z",
          "iopub.status.idle": "2021-12-13T11:07:14.645717Z",
          "shell.execute_reply": "2021-12-13T11:07:14.644712Z",
          "shell.execute_reply.started": "2021-12-13T11:07:14.639422Z"
        },
        "id": "4KJ8oYacrP4t",
        "colab": {
          "base_uri": "https://localhost:8080/"
        },
        "outputId": "8fb8caa7-83c3-4347-aae7-95c0c0a82eb2"
      },
      "outputs": [
        {
          "output_type": "stream",
          "name": "stdout",
          "text": [
            "False\n",
            "False\n",
            "False\n"
          ]
        }
      ],
      "source": [
        "### Checking if string is digit, alpabetic, alpha-numeric\n",
        "print(str_1.isalnum())\n",
        "print(str_1.isalpha())\n",
        "print(str_1.isnumeric())"
      ]
    },
    {
      "cell_type": "code",
      "execution_count": null,
      "metadata": {
        "execution": {
          "iopub.execute_input": "2021-12-13T11:08:59.303427Z",
          "iopub.status.busy": "2021-12-13T11:08:59.302982Z",
          "iopub.status.idle": "2021-12-13T11:08:59.310259Z",
          "shell.execute_reply": "2021-12-13T11:08:59.309168Z",
          "shell.execute_reply.started": "2021-12-13T11:08:59.303392Z"
        },
        "id": "SGBdMJeurP4u"
      },
      "outputs": [],
      "source": [
        "# assign \"C++ is easy to learn\" to a new_str variable\n",
        "\n",
        "new_str = \"C++ is easy to learn\""
      ]
    },
    {
      "cell_type": "code",
      "execution_count": null,
      "metadata": {
        "execution": {
          "iopub.execute_input": "2021-12-13T11:09:12.005822Z",
          "iopub.status.busy": "2021-12-13T11:09:12.005323Z",
          "iopub.status.idle": "2021-12-13T11:09:12.012082Z",
          "shell.execute_reply": "2021-12-13T11:09:12.011148Z",
          "shell.execute_reply.started": "2021-12-13T11:09:12.005782Z"
        },
        "id": "o3IMBWfqrP4u",
        "colab": {
          "base_uri": "https://localhost:8080/"
        },
        "outputId": "e00386f4-7978-4500-e8a1-9a4a0d9a8595"
      },
      "outputs": [
        {
          "output_type": "stream",
          "name": "stdout",
          "text": [
            "Pythno is easy to learn\n"
          ]
        }
      ],
      "source": [
        "### Replace C++ with Python\n",
        "new_str = new_str.replace(\"C++\", \"Pythno\")\n",
        "print(new_str)"
      ]
    },
    {
      "cell_type": "code",
      "execution_count": null,
      "metadata": {
        "execution": {
          "iopub.execute_input": "2021-12-13T11:09:37.127736Z",
          "iopub.status.busy": "2021-12-13T11:09:37.127294Z",
          "iopub.status.idle": "2021-12-13T11:09:37.133848Z",
          "shell.execute_reply": "2021-12-13T11:09:37.133093Z",
          "shell.execute_reply.started": "2021-12-13T11:09:37.127695Z"
        },
        "id": "himKDrvcrP4u",
        "colab": {
          "base_uri": "https://localhost:8080/"
        },
        "outputId": "f2946c01-7bbc-42c7-e3fa-b12344c6ba59"
      },
      "outputs": [
        {
          "output_type": "stream",
          "name": "stdout",
          "text": [
            "['Pythno', 'is', 'easy', 'to', 'learn']\n"
          ]
        }
      ],
      "source": [
        "### Use Split function on new_str ###\n",
        "word_list = new_str.split(\" \")\n",
        "print(word_list)\n"
      ]
    },
    {
      "cell_type": "markdown",
      "metadata": {
        "execution": {
          "iopub.execute_input": "2021-12-13T11:09:45.285163Z",
          "iopub.status.busy": "2021-12-13T11:09:45.284668Z",
          "iopub.status.idle": "2021-12-13T11:09:45.291474Z",
          "shell.execute_reply": "2021-12-13T11:09:45.290548Z",
          "shell.execute_reply.started": "2021-12-13T11:09:45.285128Z"
        },
        "id": "cCDcaUzHrP4u",
        "outputId": "26c9046b-e3f3-41c5-ab4a-051bbf4bf5f5"
      },
      "source": [
        "# **`Python Functions`**"
      ]
    },
    {
      "cell_type": "code",
      "execution_count": null,
      "metadata": {
        "colab": {
          "base_uri": "https://localhost:8080/",
          "height": 35
        },
        "execution": {
          "iopub.execute_input": "2021-12-14T10:18:36.097257Z",
          "iopub.status.busy": "2021-12-14T10:18:36.096956Z",
          "iopub.status.idle": "2021-12-14T10:18:36.102958Z",
          "shell.execute_reply": "2021-12-14T10:18:36.102283Z",
          "shell.execute_reply.started": "2021-12-14T10:18:36.097225Z"
        },
        "id": "4jqkxfNdrP4z",
        "outputId": "94fefebb-474b-4934-d4ef-a2feeba5d59b"
      },
      "outputs": [
        {
          "output_type": "execute_result",
          "data": {
            "text/plain": [
              "'\\ndef function_name():\\n    stetement(s)\\n'"
            ],
            "application/vnd.google.colaboratory.intrinsic+json": {
              "type": "string"
            }
          },
          "metadata": {},
          "execution_count": 126
        }
      ],
      "source": [
        "\"\"\"\n",
        "def function_name():\n",
        "    stetement(s)\n",
        "\"\"\""
      ]
    },
    {
      "cell_type": "code",
      "execution_count": null,
      "metadata": {
        "execution": {
          "iopub.execute_input": "2021-12-14T10:41:22.778938Z",
          "iopub.status.busy": "2021-12-14T10:41:22.778217Z",
          "iopub.status.idle": "2021-12-14T10:41:22.783295Z",
          "shell.execute_reply": "2021-12-14T10:41:22.782386Z",
          "shell.execute_reply.started": "2021-12-14T10:41:22.778903Z"
        },
        "id": "L8OCfOyPrP4z"
      },
      "outputs": [],
      "source": [
        "# define a function with welcome_message(name) and body 'Welcome to Functions !!!'\n",
        "def welcome_message(name):\n",
        "  print('Welcome to Functions : ', name)\n"
      ]
    },
    {
      "cell_type": "code",
      "execution_count": null,
      "metadata": {
        "execution": {
          "iopub.execute_input": "2021-12-14T10:41:28.898798Z",
          "iopub.status.busy": "2021-12-14T10:41:28.89826Z",
          "iopub.status.idle": "2021-12-14T10:41:28.902844Z",
          "shell.execute_reply": "2021-12-14T10:41:28.902223Z",
          "shell.execute_reply.started": "2021-12-14T10:41:28.898763Z"
        },
        "id": "asBr2ewErP4z",
        "colab": {
          "base_uri": "https://localhost:8080/"
        },
        "outputId": "5b372b12-a426-4f0b-d596-b1afd8b5c014"
      },
      "outputs": [
        {
          "output_type": "stream",
          "name": "stdout",
          "text": [
            "Welcome to Functions :  Krutika\n"
          ]
        }
      ],
      "source": [
        "# call a function with your name\n",
        "welcome_message(\"Krutika\")\n"
      ]
    },
    {
      "cell_type": "markdown",
      "metadata": {
        "id": "YKfp2X2irP4z"
      },
      "source": [
        "* `def` Keyword marking start of function\n",
        "* `function name` to uniquely identify function\n",
        "    * `function naming` follows same `rules of writing identifiers`\n",
        "* `parameters`(arguments) to pass values to a function => totally optional\n",
        "* `()` paranthesis\n",
        "* `colon (:)` start of function\n",
        "* `documentation string`(docstring) describe's what function does => totally optional\n",
        "* `return statement` returns a value from function => totally optional\n",
        "* inside colon is `function definition` it should always be present before function call or get an error"
      ]
    },
    {
      "cell_type": "code",
      "execution_count": null,
      "metadata": {
        "execution": {
          "iopub.execute_input": "2021-12-14T10:46:10.134296Z",
          "iopub.status.busy": "2021-12-14T10:46:10.133283Z",
          "iopub.status.idle": "2021-12-14T10:46:10.138594Z",
          "shell.execute_reply": "2021-12-14T10:46:10.137987Z",
          "shell.execute_reply.started": "2021-12-14T10:46:10.134236Z"
        },
        "id": "TbWL-gm-rP4z",
        "colab": {
          "base_uri": "https://localhost:8080/"
        },
        "outputId": "ef75c279-ec6c-4dde-d3e1-9ada80dccf1b"
      },
      "outputs": [
        {
          "output_type": "stream",
          "name": "stdout",
          "text": [
            "7\n"
          ]
        }
      ],
      "source": [
        "# Write a function to add two number which are as 3 and 4\n",
        "# in total variable store adition of 3 + 4\n",
        "# print total variable\n",
        "def total_num(num_1, num_2):\n",
        "  total = num_1 + num_2\n",
        "  print(total)\n",
        "\n",
        "total_num(3, 4)"
      ]
    },
    {
      "cell_type": "markdown",
      "metadata": {
        "id": "JzTJaFZirP41"
      },
      "source": [
        "# ***`Positional Arguments`***\n",
        "Most arguments are identified by their position in function call\n",
        "* Say `print(x,y)` will give different results from `print(y,x)`\n",
        "\n",
        "What ever sequence is given while defining a function values must be taken in that sequence only\n",
        "* Otherwise use argument name **`(keyword arguments)`** to take values\n",
        "* We first define `positional argument` and then `keyword arguments`\n"
      ]
    },
    {
      "cell_type": "code",
      "execution_count": null,
      "metadata": {
        "execution": {
          "iopub.execute_input": "2021-12-11T10:24:26.570469Z",
          "iopub.status.busy": "2021-12-11T10:24:26.570183Z",
          "iopub.status.idle": "2021-12-11T10:24:26.574882Z",
          "shell.execute_reply": "2021-12-11T10:24:26.574072Z",
          "shell.execute_reply.started": "2021-12-11T10:24:26.570434Z"
        },
        "id": "LpgDIWcYrP41"
      },
      "outputs": [],
      "source": [
        "## Create substraction_function(small_number,large_number) and return difference between large_number and small_number\n",
        "\n",
        "def substraction_function(small_number,large_number):\n",
        "  return large_number - small_number"
      ]
    },
    {
      "cell_type": "code",
      "execution_count": null,
      "metadata": {
        "execution": {
          "iopub.execute_input": "2021-12-11T10:26:55.88569Z",
          "iopub.status.busy": "2021-12-11T10:26:55.88516Z",
          "iopub.status.idle": "2021-12-11T10:26:55.890293Z",
          "shell.execute_reply": "2021-12-11T10:26:55.889589Z",
          "shell.execute_reply.started": "2021-12-11T10:26:55.885652Z"
        },
        "id": "AX6Ku1j9rP41",
        "colab": {
          "base_uri": "https://localhost:8080/"
        },
        "outputId": "6c7ed1ba-dc89-4d6e-871d-4671eec969e1"
      },
      "outputs": [
        {
          "output_type": "stream",
          "name": "stdout",
          "text": [
            "40\n"
          ]
        }
      ],
      "source": [
        "# pass arguments in right order\n",
        "subs = substraction_function(10, 50)\n",
        "print(subs)"
      ]
    },
    {
      "cell_type": "code",
      "execution_count": null,
      "metadata": {
        "execution": {
          "iopub.execute_input": "2021-12-11T10:27:51.964287Z",
          "iopub.status.busy": "2021-12-11T10:27:51.963803Z",
          "iopub.status.idle": "2021-12-11T10:27:51.969195Z",
          "shell.execute_reply": "2021-12-11T10:27:51.968619Z",
          "shell.execute_reply.started": "2021-12-11T10:27:51.964251Z"
        },
        "id": "zSWT96GurP41",
        "colab": {
          "base_uri": "https://localhost:8080/"
        },
        "outputId": "04ed0a35-b3b9-4902-8b1b-0c59500dc0bb"
      },
      "outputs": [
        {
          "output_type": "stream",
          "name": "stdout",
          "text": [
            "50\n"
          ]
        }
      ],
      "source": [
        "# always pass arguments using there name(keyword arguments) then order does not matter\n",
        "subs = substraction_function(large_number = 100, small_number = 50)\n",
        "print(subs)\n"
      ]
    },
    {
      "cell_type": "code",
      "execution_count": null,
      "metadata": {
        "id": "S2P-SQ2YWR9S"
      },
      "outputs": [],
      "source": []
    },
    {
      "cell_type": "markdown",
      "metadata": {
        "id": "_NUdf1OsrP42"
      },
      "source": [
        "# ***`Scope of Variables`*** means that part of program where we can access particular variable\n",
        "* `Local Variable` => variables defined inside a function and can be only accessed from inside of that particular function\n",
        "* `Global Variable` => variables defined outside a function and can be accessed throughout program\n",
        "\n",
        "Let's define a global variable, `\"global_variable\"` outside function\n",
        "* We will return its value using a function `\"randome_function\"` and see that we would be able to access its value using that function also"
      ]
    },
    {
      "cell_type": "code",
      "execution_count": null,
      "metadata": {
        "execution": {
          "iopub.execute_input": "2021-12-11T11:00:38.758741Z",
          "iopub.status.busy": "2021-12-11T11:00:38.758474Z",
          "iopub.status.idle": "2021-12-11T11:00:38.762182Z",
          "shell.execute_reply": "2021-12-11T11:00:38.761618Z",
          "shell.execute_reply.started": "2021-12-11T11:00:38.758716Z"
        },
        "id": "e0BDQ-ccrP42"
      },
      "outputs": [],
      "source": [
        "#### Observe every output from here onwords #####\n",
        "# defining a global variable\n",
        "global_variable = 'variable outside of function'\n",
        "\n",
        "# defining function\n",
        "def random_function():\n",
        "    # accessing variable which is outside of this function\n",
        "    return global_variable"
      ]
    },
    {
      "cell_type": "code",
      "execution_count": null,
      "metadata": {
        "colab": {
          "base_uri": "https://localhost:8080/",
          "height": 35
        },
        "execution": {
          "iopub.execute_input": "2021-12-11T11:00:58.33357Z",
          "iopub.status.busy": "2021-12-11T11:00:58.33313Z",
          "iopub.status.idle": "2021-12-11T11:00:58.337597Z",
          "shell.execute_reply": "2021-12-11T11:00:58.337038Z",
          "shell.execute_reply.started": "2021-12-11T11:00:58.333513Z"
        },
        "id": "2hYmUr5BrP42",
        "outputId": "0905c6cc-ede4-4699-c606-bc8341b56d18"
      },
      "outputs": [
        {
          "output_type": "execute_result",
          "data": {
            "text/plain": [
              "'variable outside of function'"
            ],
            "application/vnd.google.colaboratory.intrinsic+json": {
              "type": "string"
            }
          },
          "metadata": {},
          "execution_count": 134
        }
      ],
      "source": [
        "random_function()"
      ]
    },
    {
      "cell_type": "markdown",
      "metadata": {
        "id": "w7AB55isrP42"
      },
      "source": [
        "`See we can acess the data of golbal variable from Inside of the Function`\n",
        "\n",
        "# **`=> Let's see what will happen if we try to change value of global variable from Inside of the Function`**"
      ]
    },
    {
      "cell_type": "code",
      "execution_count": null,
      "metadata": {
        "execution": {
          "iopub.execute_input": "2021-12-11T11:08:27.657115Z",
          "iopub.status.busy": "2021-12-11T11:08:27.656836Z",
          "iopub.status.idle": "2021-12-11T11:08:27.661916Z",
          "shell.execute_reply": "2021-12-11T11:08:27.661004Z",
          "shell.execute_reply.started": "2021-12-11T11:08:27.657086Z"
        },
        "id": "1cOFox6FrP43"
      },
      "outputs": [],
      "source": [
        "#### Observe every output from here onwords #####\n",
        "# defining a global variable\n",
        "global_variable = 'variable outside of function'\n",
        "\n",
        "# defining function\n",
        "def random_function():\n",
        "    # changing value of global variable from inside of the function\n",
        "    global_variable = 'changing variable outside of function from inside of function'\n",
        "    # accessing variable which is outside of this function\n",
        "    return global_variable"
      ]
    },
    {
      "cell_type": "code",
      "execution_count": null,
      "metadata": {
        "colab": {
          "base_uri": "https://localhost:8080/"
        },
        "execution": {
          "iopub.execute_input": "2021-12-11T11:32:36.29647Z",
          "iopub.status.busy": "2021-12-11T11:32:36.296167Z",
          "iopub.status.idle": "2021-12-11T11:32:36.300653Z",
          "shell.execute_reply": "2021-12-11T11:32:36.30002Z",
          "shell.execute_reply.started": "2021-12-11T11:32:36.29644Z"
        },
        "id": "8ScwL6OUrP43",
        "outputId": "bd7108b4-d2f9-4c98-96ae-7084cf64572b"
      },
      "outputs": [
        {
          "output_type": "stream",
          "name": "stdout",
          "text": [
            "changing variable outside of function from inside of function\n",
            "variable outside of function\n"
          ]
        }
      ],
      "source": [
        "print(random_function())\n",
        "print(global_variable)"
      ]
    },
    {
      "cell_type": "code",
      "execution_count": null,
      "metadata": {
        "id": "XtmZ4Kj3WR9X"
      },
      "outputs": [],
      "source": []
    },
    {
      "cell_type": "code",
      "execution_count": null,
      "metadata": {
        "id": "vnZLFoUrWR9Y"
      },
      "outputs": [],
      "source": []
    }
  ],
  "metadata": {
    "colab": {
      "provenance": [],
      "include_colab_link": true
    },
    "kernelspec": {
      "display_name": "Python 3",
      "language": "python",
      "name": "python3"
    },
    "language_info": {
      "codemirror_mode": {
        "name": "ipython",
        "version": 3
      },
      "file_extension": ".py",
      "mimetype": "text/x-python",
      "name": "python",
      "nbconvert_exporter": "python",
      "pygments_lexer": "ipython3",
      "version": "3.7.4"
    }
  },
  "nbformat": 4,
  "nbformat_minor": 0
}